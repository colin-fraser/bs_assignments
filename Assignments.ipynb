{
 "cells": [
  {
   "cell_type": "markdown",
   "metadata": {},
   "source": [
    "# Unit 4"
   ]
  },
  {
   "cell_type": "markdown",
   "metadata": {},
   "source": [
    "The file `customer_data.csv` contains some data on the business customers of a large telecommunications firm. The columns are specified as follows:\n",
    "- `INDUSTRY`: the customer's industry\n",
    "- `EMP`: the number of employees that work at the business\n",
    "- `ANNUAL_SALES`: the business's annual sales\n",
    "- `PROVINCE`: the business headquarters\n",
    "- `MOBILITY`: the amount the customer has spent on mobility products (cell phones, tablets, etc.) in the last 12 months\n",
    "- `INTERNET`: the amount the customer has spent on Internet products in the last 12 months.\n",
    "\n",
    "Import the file and answer the following questions.\n",
    "\n",
    "1. The marketing department would like to target a campaign to medium sized (100-999 Employees) customers who are in either Education or Food Services, and who currently spend less than $5000 total per year on all services. Create a boolean column called `INCLUDE` that indicates whether the customer on that row should be included in the campaign.\n",
    "2. How many customers are in the campaign?\n",
    "3. Pandas has a function called `crosstab` which prints cross tabulations of categorical variables. Use the `crosstab` function to determine how many customers in each industry and province are included in the campaign.\n",
    "4. Create a file called `customerids.csv` that contains _only_ a list of `CUSTOMER_ID`s to be included in the campaign."
   ]
  },
  {
   "cell_type": "code",
   "execution_count": 1,
   "metadata": {
    "collapsed": true
   },
   "outputs": [],
   "source": [
    "import pandas as pd"
   ]
  },
  {
   "cell_type": "code",
   "execution_count": 2,
   "metadata": {
    "collapsed": true
   },
   "outputs": [],
   "source": [
    "df = pd.read_csv('customer_info.csv')"
   ]
  },
  {
   "cell_type": "code",
   "execution_count": 3,
   "metadata": {
    "collapsed": true
   },
   "outputs": [],
   "source": [
    "#1\n",
    "df[\"INCLUDE\"] = (df[\"EMP\"] >= 100) & (df[\"EMP\"] < 1000) & (df[\"INDUSTRY\"].isin([\"Food Services\", \"Education\"])) & (df[\"MOBILITY\"] + df[\"INTERNET\"] <= 5000)"
   ]
  },
  {
   "cell_type": "code",
   "execution_count": 4,
   "metadata": {},
   "outputs": [
    {
     "data": {
      "text/plain": [
       "88"
      ]
     },
     "execution_count": 4,
     "metadata": {},
     "output_type": "execute_result"
    }
   ],
   "source": [
    "#2\n",
    "sum(df.INCLUDE)"
   ]
  },
  {
   "cell_type": "code",
   "execution_count": 5,
   "metadata": {},
   "outputs": [
    {
     "data": {
      "text/html": [
       "<div>\n",
       "<style>\n",
       "    .dataframe thead tr:only-child th {\n",
       "        text-align: right;\n",
       "    }\n",
       "\n",
       "    .dataframe thead th {\n",
       "        text-align: left;\n",
       "    }\n",
       "\n",
       "    .dataframe tbody tr th {\n",
       "        vertical-align: top;\n",
       "    }\n",
       "</style>\n",
       "<table border=\"1\" class=\"dataframe\">\n",
       "  <thead>\n",
       "    <tr style=\"text-align: right;\">\n",
       "      <th>PROVINCE</th>\n",
       "      <th>AB</th>\n",
       "      <th>BC</th>\n",
       "    </tr>\n",
       "    <tr>\n",
       "      <th>INDUSTRY</th>\n",
       "      <th></th>\n",
       "      <th></th>\n",
       "    </tr>\n",
       "  </thead>\n",
       "  <tbody>\n",
       "    <tr>\n",
       "      <th>Education</th>\n",
       "      <td>12</td>\n",
       "      <td>9</td>\n",
       "    </tr>\n",
       "    <tr>\n",
       "      <th>Food Services</th>\n",
       "      <td>34</td>\n",
       "      <td>33</td>\n",
       "    </tr>\n",
       "  </tbody>\n",
       "</table>\n",
       "</div>"
      ],
      "text/plain": [
       "PROVINCE       AB  BC\n",
       "INDUSTRY             \n",
       "Education      12   9\n",
       "Food Services  34  33"
      ]
     },
     "execution_count": 5,
     "metadata": {},
     "output_type": "execute_result"
    }
   ],
   "source": [
    "#3\n",
    "pd.crosstab(df[df[\"INCLUDE\"]][\"INDUSTRY\"], df[df[\"INCLUDE\"]][\"PROVINCE\"])"
   ]
  },
  {
   "cell_type": "code",
   "execution_count": 6,
   "metadata": {},
   "outputs": [],
   "source": [
    "#4\n",
    "df[df[\"INCLUDE\"]][\"CUSTOMER_ID\"].to_csv(\"customerids.csv\", index=False)"
   ]
  },
  {
   "cell_type": "markdown",
   "metadata": {},
   "source": [
    "# Unit 5"
   ]
  },
  {
   "cell_type": "markdown",
   "metadata": {},
   "source": [
    "Use the file `customer_data.csv` to perform the exercise.\n",
    "\n",
    "1. Create a new DataFrame called `construction` which contains all the customers in the \"Construction\" industry with over 0 spend on mobility products. Using this DataFrame, create a scatterplot with Mobility revenue on the vertical axis and number of employees on the horizontal axis. Does this tell you anything about the relationship between Mobility revenue and number of employees? What does it tell you?\n",
    "2. Copy the code from part (1) and add in two lines underneath: `plt.xscale('log')` and `plt.yscale('log')`. These two lines _rescale_ the axes so that instead of showing the raw figures, the _logarithm_ of the figures is shown instead. This is often a useful transformation for data that is extremely skewed. How does the rescaled plot differ from the plot you created in part 1? Why? Can you descern anything about the relationship between Mobility revenue and number of employees that you couldn't before?\n",
    "3. Repeat parts (1) and (2) for the Agriculture industry. How does the relationship between Mobility and number of employees differ in this industry from the Construction industry? Why do you think that might be?\n"
   ]
  },
  {
   "cell_type": "code",
   "execution_count": 7,
   "metadata": {},
   "outputs": [
    {
     "name": "stdout",
     "output_type": "stream",
     "text": [
      "Populating the interactive namespace from numpy and matplotlib\n"
     ]
    }
   ],
   "source": [
    "import matplotlib.pyplot as plt\n",
    "%pylab inline"
   ]
  },
  {
   "cell_type": "code",
   "execution_count": 8,
   "metadata": {},
   "outputs": [],
   "source": [
    "df = pd.read_csv('customer_info.csv')"
   ]
  },
  {
   "cell_type": "code",
   "execution_count": 13,
   "metadata": {},
   "outputs": [
    {
     "data": {
      "text/plain": [
       "<matplotlib.axes._subplots.AxesSubplot at 0x258cc8a62e8>"
      ]
     },
     "execution_count": 13,
     "metadata": {},
     "output_type": "execute_result"
    },
    {
     "data": {
      "image/png": "[encoded data removed]",
      "text/plain": [
       "<matplotlib.figure.Figure at 0x258ca708a90>"
      ]
     },
     "metadata": {},
     "output_type": "display_data"
    }
   ],
   "source": [
    "# 1\n",
    "construct = df[(df[\"INDUSTRY\"] == 'Construction') & (df[\"MOBILITY\"] > 0)]\n",
    "construct.plot(x = \"EMP\", y = \"MOBILITY\", kind = \"scatter\")"
   ]
  },
  {
   "cell_type": "code",
   "execution_count": 16,
   "metadata": {},
   "outputs": [
    {
     "data": {
      "image/png": "[encoded data removed]",
      "text/plain": [
       "<matplotlib.figure.Figure at 0x258cca41358>"
      ]
     },
     "metadata": {},
     "output_type": "display_data"
    }
   ],
   "source": [
    "# 2\n",
    "construct = df[(df[\"INDUSTRY\"] == 'Construction') & (df[\"MOBILITY\"] > 0)]\n",
    "construct.plot(x = \"EMP\", y = \"MOBILITY\", kind = \"scatter\")\n",
    "plt.xscale('log')\n",
    "plt.yscale('log')"
   ]
  },
  {
   "cell_type": "code",
   "execution_count": 11,
   "metadata": {},
   "outputs": [
    {
     "data": {
      "image/png": "[encoded data removed]",
      "text/plain": [
       "<matplotlib.figure.Figure at 0x258cca18f60>"
      ]
     },
     "metadata": {},
     "output_type": "display_data"
    }
   ],
   "source": [
    "# 3\n",
    "food = df[(df[\"INDUSTRY\"] == 'Agriculture') & (df[\"MOBILITY\"] > 0)]\n",
    "food.plot(x = \"EMP\", y = \"MOBILITY\", kind = \"scatter\")\n",
    "plt.xscale('log')\n",
    "plt.yscale('log')"
   ]
  },
  {
   "cell_type": "markdown",
   "metadata": {},
   "source": [
    "# Unit 6"
   ]
  },
  {
   "cell_type": "markdown",
   "metadata": {},
   "source": [
    "# Unit 7"
   ]
  },
  {
   "cell_type": "markdown",
   "metadata": {},
   "source": [
    "# Unit 8"
   ]
  },
  {
   "cell_type": "code",
   "execution_count": 19,
   "metadata": {
    "collapsed": true
   },
   "outputs": [],
   "source": [
    "from scipy.stats import linregress"
   ]
  },
  {
   "cell_type": "code",
   "execution_count": 24,
   "metadata": {},
   "outputs": [],
   "source": [
    "df2 = df.dropna()\n",
    "r = linregress(y = df2[\"MOBILITY\"], x = df2[\"EMP\"])"
   ]
  },
  {
   "cell_type": "code",
   "execution_count": 52,
   "metadata": {},
   "outputs": [],
   "source": [
    "import statsmodels.formula.api as sm\n",
    "r = sm.ols(\"MOBILITY ~ EMP + PROVINCE + INDUSTRY + ANNUAL_SALES\", data = df2).fit()"
   ]
  },
  {
   "cell_type": "code",
   "execution_count": 53,
   "metadata": {},
   "outputs": [
    {
     "data": {
      "text/html": [
       "<table class=\"simpletable\">\n",
       "<caption>OLS Regression Results</caption>\n",
       "<tr>\n",
       "  <th>Dep. Variable:</th>        <td>MOBILITY</td>     <th>  R-squared:         </th> <td>   0.439</td> \n",
       "</tr>\n",
       "<tr>\n",
       "  <th>Model:</th>                   <td>OLS</td>       <th>  Adj. R-squared:    </th> <td>   0.439</td> \n",
       "</tr>\n",
       "<tr>\n",
       "  <th>Method:</th>             <td>Least Squares</td>  <th>  F-statistic:       </th> <td>   803.7</td> \n",
       "</tr>\n",
       "<tr>\n",
       "  <th>Date:</th>             <td>Tue, 12 Sep 2017</td> <th>  Prob (F-statistic):</th>  <td>  0.00</td>  \n",
       "</tr>\n",
       "<tr>\n",
       "  <th>Time:</th>                 <td>22:16:52</td>     <th>  Log-Likelihood:    </th> <td> -81255.</td> \n",
       "</tr>\n",
       "<tr>\n",
       "  <th>No. Observations:</th>      <td>  8221</td>      <th>  AIC:               </th> <td>1.625e+05</td>\n",
       "</tr>\n",
       "<tr>\n",
       "  <th>Df Residuals:</th>          <td>  8212</td>      <th>  BIC:               </th> <td>1.626e+05</td>\n",
       "</tr>\n",
       "<tr>\n",
       "  <th>Df Model:</th>              <td>     8</td>      <th>                     </th>     <td> </td>    \n",
       "</tr>\n",
       "<tr>\n",
       "  <th>Covariance Type:</th>      <td>nonrobust</td>    <th>                     </th>     <td> </td>    \n",
       "</tr>\n",
       "</table>\n",
       "<table class=\"simpletable\">\n",
       "<tr>\n",
       "                  <td></td>                     <th>coef</th>     <th>std err</th>      <th>t</th>      <th>P>|t|</th>  <th>[0.025</th>    <th>0.975]</th>  \n",
       "</tr>\n",
       "<tr>\n",
       "  <th>Intercept</th>                         <td>  756.3649</td> <td>  208.981</td> <td>    3.619</td> <td> 0.000</td> <td>  346.710</td> <td> 1166.020</td>\n",
       "</tr>\n",
       "<tr>\n",
       "  <th>PROVINCE[T.BC]</th>                    <td>  581.7821</td> <td>  105.221</td> <td>    5.529</td> <td> 0.000</td> <td>  375.523</td> <td>  788.041</td>\n",
       "</tr>\n",
       "<tr>\n",
       "  <th>INDUSTRY[T.Construction]</th>          <td> 6380.3416</td> <td>  232.575</td> <td>   27.433</td> <td> 0.000</td> <td> 5924.435</td> <td> 6836.248</td>\n",
       "</tr>\n",
       "<tr>\n",
       "  <th>INDUSTRY[T.Education]</th>             <td> 2051.1812</td> <td>  259.971</td> <td>    7.890</td> <td> 0.000</td> <td> 1541.573</td> <td> 2560.789</td>\n",
       "</tr>\n",
       "<tr>\n",
       "  <th>INDUSTRY[T.Finance and Insurance]</th> <td> 2277.8186</td> <td>  237.885</td> <td>    9.575</td> <td> 0.000</td> <td> 1811.504</td> <td> 2744.133</td>\n",
       "</tr>\n",
       "<tr>\n",
       "  <th>INDUSTRY[T.Food Services]</th>         <td>  117.8163</td> <td>  223.164</td> <td>    0.528</td> <td> 0.598</td> <td> -319.642</td> <td>  555.275</td>\n",
       "</tr>\n",
       "<tr>\n",
       "  <th>INDUSTRY[T.Healthcare]</th>            <td> 3729.5409</td> <td>  241.298</td> <td>   15.456</td> <td> 0.000</td> <td> 3256.535</td> <td> 4202.547</td>\n",
       "</tr>\n",
       "<tr>\n",
       "  <th>EMP</th>                               <td>   16.0725</td> <td>    1.193</td> <td>   13.468</td> <td> 0.000</td> <td>   13.733</td> <td>   18.412</td>\n",
       "</tr>\n",
       "<tr>\n",
       "  <th>ANNUAL_SALES</th>                      <td> 4.563e-05</td> <td> 2.63e-05</td> <td>    1.734</td> <td> 0.083</td> <td>-5.94e-06</td> <td> 9.72e-05</td>\n",
       "</tr>\n",
       "</table>\n",
       "<table class=\"simpletable\">\n",
       "<tr>\n",
       "  <th>Omnibus:</th>       <td>6336.689</td> <th>  Durbin-Watson:     </th>  <td>   1.998</td> \n",
       "</tr>\n",
       "<tr>\n",
       "  <th>Prob(Omnibus):</th>  <td> 0.000</td>  <th>  Jarque-Bera (JB):  </th> <td>307799.635</td>\n",
       "</tr>\n",
       "<tr>\n",
       "  <th>Skew:</th>           <td> 3.259</td>  <th>  Prob(JB):          </th>  <td>    0.00</td> \n",
       "</tr>\n",
       "<tr>\n",
       "  <th>Kurtosis:</th>       <td>32.259</td>  <th>  Cond. No.          </th>  <td>7.65e+07</td> \n",
       "</tr>\n",
       "</table>"
      ],
      "text/plain": [
       "<class 'statsmodels.iolib.summary.Summary'>\n",
       "\"\"\"\n",
       "                            OLS Regression Results                            \n",
       "==============================================================================\n",
       "Dep. Variable:               MOBILITY   R-squared:                       0.439\n",
       "Model:                            OLS   Adj. R-squared:                  0.439\n",
       "Method:                 Least Squares   F-statistic:                     803.7\n",
       "Date:                Tue, 12 Sep 2017   Prob (F-statistic):               0.00\n",
       "Time:                        22:16:52   Log-Likelihood:                -81255.\n",
       "No. Observations:                8221   AIC:                         1.625e+05\n",
       "Df Residuals:                    8212   BIC:                         1.626e+05\n",
       "Df Model:                           8                                         \n",
       "Covariance Type:            nonrobust                                         \n",
       "=====================================================================================================\n",
       "                                        coef    std err          t      P>|t|      [0.025      0.975]\n",
       "-----------------------------------------------------------------------------------------------------\n",
       "Intercept                           756.3649    208.981      3.619      0.000     346.710    1166.020\n",
       "PROVINCE[T.BC]                      581.7821    105.221      5.529      0.000     375.523     788.041\n",
       "INDUSTRY[T.Construction]           6380.3416    232.575     27.433      0.000    5924.435    6836.248\n",
       "INDUSTRY[T.Education]              2051.1812    259.971      7.890      0.000    1541.573    2560.789\n",
       "INDUSTRY[T.Finance and Insurance]  2277.8186    237.885      9.575      0.000    1811.504    2744.133\n",
       "INDUSTRY[T.Food Services]           117.8163    223.164      0.528      0.598    -319.642     555.275\n",
       "INDUSTRY[T.Healthcare]             3729.5409    241.298     15.456      0.000    3256.535    4202.547\n",
       "EMP                                  16.0725      1.193     13.468      0.000      13.733      18.412\n",
       "ANNUAL_SALES                       4.563e-05   2.63e-05      1.734      0.083   -5.94e-06    9.72e-05\n",
       "==============================================================================\n",
       "Omnibus:                     6336.689   Durbin-Watson:                   1.998\n",
       "Prob(Omnibus):                  0.000   Jarque-Bera (JB):           307799.635\n",
       "Skew:                           3.259   Prob(JB):                         0.00\n",
       "Kurtosis:                      32.259   Cond. No.                     7.65e+07\n",
       "==============================================================================\n",
       "\n",
       "Warnings:\n",
       "[1] Standard Errors assume that the covariance matrix of the errors is correctly specified.\n",
       "[2] The condition number is large, 7.65e+07. This might indicate that there are\n",
       "strong multicollinearity or other numerical problems.\n",
       "\"\"\""
      ]
     },
     "execution_count": 53,
     "metadata": {},
     "output_type": "execute_result"
    }
   ],
   "source": [
    "r.summary()"
   ]
  }
 ],
 "metadata": {
  "kernelspec": {
   "display_name": "Python 3",
   "language": "python",
   "name": "python3"
  },
  "language_info": {
   "codemirror_mode": {
    "name": "ipython",
    "version": 3
   },
   "file_extension": ".py",
   "mimetype": "text/x-python",
   "name": "python",
   "nbconvert_exporter": "python",
   "pygments_lexer": "ipython3",
   "version": "3.6.1"
  }
 },
 "nbformat": 4,
 "nbformat_minor": 2
}
