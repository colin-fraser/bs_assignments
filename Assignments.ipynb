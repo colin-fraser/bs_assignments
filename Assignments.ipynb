{
 "cells": [
  {
   "cell_type": "markdown",
   "metadata": {},
   "source": [
    "# Unit 4"
   ]
  },
  {
   "cell_type": "markdown",
   "metadata": {},
   "source": [
    "The file `customer_data.csv` contains some data on the business customers of a large telecommunications firm. The columns are specified as follows:\n",
    "- `INDUSTRY`: the customer's industry\n",
    "- `EMP`: the number of employees that work at the business\n",
    "- `ANNUAL_SALES`: the business's annual sales\n",
    "- `PROVINCE`: the business headquarters\n",
    "- `MOBILITY`: the amount the customer has spent on mobility products (cell phones, tablets, etc.) in the last 12 months\n",
    "- `INTERNET`: the amount the customer has spent on Internet products in the last 12 months.\n",
    "\n",
    "Import the file and answer the following questions.\n",
    "\n",
    "1. The marketing department would like to target a campaign to medium sized (100-999 Employees) customers who are in either Education or Food Services, and who currently spend less than $5000 total per year on all services. Create a boolean column called `INCLUDE` that indicates whether the customer on that row should be included in the campaign.\n",
    "2. How many customers are in the campaign?\n",
    "3. Pandas has a function called `crosstab` which prints cross tabulations of categorical variables. Use the `crosstab` function to determine how many customers in each industry and province are included in the campaign.\n",
    "4. Create a file called `customerids.csv` that contains _only_ a list of `CUSTOMER_ID`s to be included in the campaign."
   ]
  },
  {
   "cell_type": "code",
   "execution_count": 170,
   "metadata": {
    "collapsed": true
   },
   "outputs": [],
   "source": [
    "import pandas as pd"
   ]
  },
  {
   "cell_type": "code",
   "execution_count": 171,
   "metadata": {
    "collapsed": true
   },
   "outputs": [],
   "source": [
    "df = pd.read_csv('customer_info.csv')"
   ]
  },
  {
   "cell_type": "code",
   "execution_count": 172,
   "metadata": {
    "collapsed": true
   },
   "outputs": [],
   "source": [
    "#1\n",
    "df[\"INCLUDE\"] = (df[\"EMP\"] >= 100) & (df[\"EMP\"] < 1000) & (df[\"INDUSTRY\"].isin([\"Food Services\", \"Education\"])) & (df[\"MOBILITY\"] + df[\"INTERNET\"] <= 5000)"
   ]
  },
  {
   "cell_type": "code",
   "execution_count": 173,
   "metadata": {},
   "outputs": [
    {
     "data": {
      "text/plain": [
       "88"
      ]
     },
     "execution_count": 173,
     "metadata": {},
     "output_type": "execute_result"
    }
   ],
   "source": [
    "#2\n",
    "sum(df.INCLUDE)"
   ]
  },
  {
   "cell_type": "code",
   "execution_count": 174,
   "metadata": {},
   "outputs": [
    {
     "data": {
      "text/html": [
       "<div>\n",
       "<style>\n",
       "    .dataframe thead tr:only-child th {\n",
       "        text-align: right;\n",
       "    }\n",
       "\n",
       "    .dataframe thead th {\n",
       "        text-align: left;\n",
       "    }\n",
       "\n",
       "    .dataframe tbody tr th {\n",
       "        vertical-align: top;\n",
       "    }\n",
       "</style>\n",
       "<table border=\"1\" class=\"dataframe\">\n",
       "  <thead>\n",
       "    <tr style=\"text-align: right;\">\n",
       "      <th>PROVINCE</th>\n",
       "      <th>AB</th>\n",
       "      <th>BC</th>\n",
       "    </tr>\n",
       "    <tr>\n",
       "      <th>INDUSTRY</th>\n",
       "      <th></th>\n",
       "      <th></th>\n",
       "    </tr>\n",
       "  </thead>\n",
       "  <tbody>\n",
       "    <tr>\n",
       "      <th>Education</th>\n",
       "      <td>12</td>\n",
       "      <td>9</td>\n",
       "    </tr>\n",
       "    <tr>\n",
       "      <th>Food Services</th>\n",
       "      <td>34</td>\n",
       "      <td>33</td>\n",
       "    </tr>\n",
       "  </tbody>\n",
       "</table>\n",
       "</div>"
      ],
      "text/plain": [
       "PROVINCE       AB  BC\n",
       "INDUSTRY             \n",
       "Education      12   9\n",
       "Food Services  34  33"
      ]
     },
     "execution_count": 174,
     "metadata": {},
     "output_type": "execute_result"
    }
   ],
   "source": [
    "#3\n",
    "pd.crosstab(df[df[\"INCLUDE\"]][\"INDUSTRY\"], df[df[\"INCLUDE\"]][\"PROVINCE\"])"
   ]
  },
  {
   "cell_type": "code",
   "execution_count": 175,
   "metadata": {
    "collapsed": true
   },
   "outputs": [],
   "source": [
    "#4\n",
    "df[df[\"INCLUDE\"]][\"CUSTOMER_ID\"].to_csv(\"customerids.csv\", index=False)"
   ]
  },
  {
   "cell_type": "markdown",
   "metadata": {},
   "source": [
    "# Unit 5"
   ]
  },
  {
   "cell_type": "markdown",
   "metadata": {},
   "source": [
    "Use the file `customer_data.csv` to perform the exercise.\n",
    "\n",
    "1. Create a new DataFrame called `construction` which contains all the customers in the \"Construction\" industry with over 0 spend on mobility products. Using this DataFrame, create a scatterplot with Mobility revenue on the vertical axis and number of employees on the horizontal axis. Does this tell you anything about the relationship between Mobility revenue and number of employees? What does it tell you?\n",
    "2. Copy the code from part (1) and add in two lines underneath: `plt.xscale('log')` and `plt.yscale('log')`. These two lines _rescale_ the axes so that instead of showing the raw figures, the _logarithm_ of the figures is shown instead. This is often a useful transformation for data that is extremely skewed. How does the rescaled plot differ from the plot you created in part 1? Why? Can you descern anything about the relationship between Mobility revenue and number of employees that you couldn't before?\n",
    "3. Repeat parts (1) and (2) for the Agriculture industry. How does the relationship between Mobility and number of employees differ in this industry from the Construction industry? Why do you think that might be?\n"
   ]
  },
  {
   "cell_type": "code",
   "execution_count": 176,
   "metadata": {},
   "outputs": [
    {
     "name": "stdout",
     "output_type": "stream",
     "text": [
      "Populating the interactive namespace from numpy and matplotlib\n"
     ]
    }
   ],
   "source": [
    "import matplotlib.pyplot as plt\n",
    "%pylab inline"
   ]
  },
  {
   "cell_type": "code",
   "execution_count": 177,
   "metadata": {
    "collapsed": true
   },
   "outputs": [],
   "source": [
    "df = pd.read_csv('customer_info.csv')"
   ]
  },
  {
   "cell_type": "code",
   "execution_count": 178,
   "metadata": {},
   "outputs": [
    {
     "data": {
      "text/plain": [
       "<matplotlib.axes._subplots.AxesSubplot at 0x15154ef1780>"
      ]
     },
     "execution_count": 178,
     "metadata": {},
     "output_type": "execute_result"
    },
    {
     "data": {
      "image/png": "[encoded data removed]",
      "text/plain": [
       "<matplotlib.figure.Figure at 0x15154ed1b38>"
      ]
     },
     "metadata": {},
     "output_type": "display_data"
    }
   ],
   "source": [
    "# 1\n",
    "construct = df[(df[\"INDUSTRY\"] == 'Construction') & (df[\"MOBILITY\"] > 0)]\n",
    "construct.plot(x = \"EMP\", y = \"MOBILITY\", kind = \"scatter\")"
   ]
  },
  {
   "cell_type": "code",
   "execution_count": 179,
   "metadata": {},
   "outputs": [
    {
     "data": {
      "image/png": "[encoded data removed]",
      "text/plain": [
       "<matplotlib.figure.Figure at 0x15154f9ae80>"
      ]
     },
     "metadata": {},
     "output_type": "display_data"
    }
   ],
   "source": [
    "# 2\n",
    "construct = df[(df[\"INDUSTRY\"] == 'Construction') & (df[\"MOBILITY\"] > 0)]\n",
    "construct.plot(x = \"EMP\", y = \"MOBILITY\", kind = \"scatter\")\n",
    "plt.xscale('log')\n",
    "plt.yscale('log')"
   ]
  },
  {
   "cell_type": "code",
   "execution_count": 180,
   "metadata": {},
   "outputs": [
    {
     "data": {
      "image/png": "[encoded data removed]",
      "text/plain": [
       "<matplotlib.figure.Figure at 0x15154b13470>"
      ]
     },
     "metadata": {},
     "output_type": "display_data"
    }
   ],
   "source": [
    "# 3\n",
    "food = df[(df[\"INDUSTRY\"] == 'Agriculture') & (df[\"MOBILITY\"] > 0)]\n",
    "food.plot(x = \"EMP\", y = \"MOBILITY\", kind = \"scatter\")\n",
    "plt.xscale('log')\n",
    "plt.yscale('log')"
   ]
  },
  {
   "cell_type": "markdown",
   "metadata": {},
   "source": [
    "# Unit 6"
   ]
  },
  {
   "cell_type": "markdown",
   "metadata": {},
   "source": [
    "# Unit 7"
   ]
  },
  {
   "cell_type": "markdown",
   "metadata": {},
   "source": [
    "Load up the file `cordf.csv`.\n",
    "\n",
    "1. Create a correlation matrix to discribe how the variables in this file are correlated to each other. Which pair of columns is the most correlated? Which is the least? Note the ambiguity in this question: what does it mean for one pair to be \"more correlated\" than another?\n",
    "2. Create 5 scatterplots with the variable `U` on the x-axis in each, and the rest of the variables on the y-axes. Discribe the relationship between the variables in each scatterplot. Compare and contrast your findings with the expectations you formed in question 1. _Note: pandas has a cool function in `pandas.plotting.scattermatrix` that can do this kind of thing really fast. Make all the scatterplots by hand this time around, but play around with scattermatrix too when you're done to see how it works. Check out the docs [here](http://pandas.pydata.org/pandas-docs/stable/visualization.html?highlight=color#scatter-matrix-plot)_.\n",
    "3. Taking what you find in parts 1 and 2 together, what can you surmise about what exactly is measured by the correlation coefficient? What do you think you can say about the relationship between two variables if the correlataion coefficient is close to 1? Close to -1? Close to 0?\n",
    "4. Are there transformations that you could apply to any of the variables `V`, `W`, `X`, `Y`, or `Z` such that the transformed variables would have a higher correlation with `U`? Why or why not?"
   ]
  },
  {
   "cell_type": "markdown",
   "metadata": {},
   "source": [
    "## Problem 1"
   ]
  },
  {
   "cell_type": "code",
   "execution_count": 181,
   "metadata": {},
   "outputs": [
    {
     "data": {
      "text/html": [
       "<div>\n",
       "<style>\n",
       "    .dataframe thead tr:only-child th {\n",
       "        text-align: right;\n",
       "    }\n",
       "\n",
       "    .dataframe thead th {\n",
       "        text-align: left;\n",
       "    }\n",
       "\n",
       "    .dataframe tbody tr th {\n",
       "        vertical-align: top;\n",
       "    }\n",
       "</style>\n",
       "<table border=\"1\" class=\"dataframe\">\n",
       "  <thead>\n",
       "    <tr style=\"text-align: right;\">\n",
       "      <th></th>\n",
       "      <th>U</th>\n",
       "      <th>V</th>\n",
       "      <th>W</th>\n",
       "      <th>X</th>\n",
       "      <th>Y</th>\n",
       "      <th>Z</th>\n",
       "    </tr>\n",
       "  </thead>\n",
       "  <tbody>\n",
       "    <tr>\n",
       "      <th>U</th>\n",
       "      <td>1.000000</td>\n",
       "      <td>-0.017595</td>\n",
       "      <td>-0.888213</td>\n",
       "      <td>0.000520</td>\n",
       "      <td>0.627311</td>\n",
       "      <td>0.342996</td>\n",
       "    </tr>\n",
       "    <tr>\n",
       "      <th>V</th>\n",
       "      <td>-0.017595</td>\n",
       "      <td>1.000000</td>\n",
       "      <td>0.006217</td>\n",
       "      <td>0.008271</td>\n",
       "      <td>-0.001050</td>\n",
       "      <td>-0.025472</td>\n",
       "    </tr>\n",
       "    <tr>\n",
       "      <th>W</th>\n",
       "      <td>-0.888213</td>\n",
       "      <td>0.006217</td>\n",
       "      <td>1.000000</td>\n",
       "      <td>-0.000237</td>\n",
       "      <td>-0.570783</td>\n",
       "      <td>-0.306872</td>\n",
       "    </tr>\n",
       "    <tr>\n",
       "      <th>X</th>\n",
       "      <td>0.000520</td>\n",
       "      <td>0.008271</td>\n",
       "      <td>-0.000237</td>\n",
       "      <td>1.000000</td>\n",
       "      <td>-0.009350</td>\n",
       "      <td>0.508597</td>\n",
       "    </tr>\n",
       "    <tr>\n",
       "      <th>Y</th>\n",
       "      <td>0.627311</td>\n",
       "      <td>-0.001050</td>\n",
       "      <td>-0.570783</td>\n",
       "      <td>-0.009350</td>\n",
       "      <td>1.000000</td>\n",
       "      <td>0.181291</td>\n",
       "    </tr>\n",
       "    <tr>\n",
       "      <th>Z</th>\n",
       "      <td>0.342996</td>\n",
       "      <td>-0.025472</td>\n",
       "      <td>-0.306872</td>\n",
       "      <td>0.508597</td>\n",
       "      <td>0.181291</td>\n",
       "      <td>1.000000</td>\n",
       "    </tr>\n",
       "  </tbody>\n",
       "</table>\n",
       "</div>"
      ],
      "text/plain": [
       "          U         V         W         X         Y         Z\n",
       "U  1.000000 -0.017595 -0.888213  0.000520  0.627311  0.342996\n",
       "V -0.017595  1.000000  0.006217  0.008271 -0.001050 -0.025472\n",
       "W -0.888213  0.006217  1.000000 -0.000237 -0.570783 -0.306872\n",
       "X  0.000520  0.008271 -0.000237  1.000000 -0.009350  0.508597\n",
       "Y  0.627311 -0.001050 -0.570783 -0.009350  1.000000  0.181291\n",
       "Z  0.342996 -0.025472 -0.306872  0.508597  0.181291  1.000000"
      ]
     },
     "execution_count": 181,
     "metadata": {},
     "output_type": "execute_result"
    }
   ],
   "source": [
    "import pandas as pd\n",
    "cordf = pd.read_csv(\"cordf.csv\")\n",
    "\n",
    "# Correlation matrix\n",
    "cordf.corr()"
   ]
  },
  {
   "cell_type": "markdown",
   "metadata": {},
   "source": [
    "The most tightly correlated variables are U and W, followed by U and Y and then Y and W. Note that there is some transitivity here: we know U and W are correlated, and U and Y are correlated, so W and Y also end up being correlated.\n",
    "\n",
    "The least correlated variables are V and W, and the correlations are small (in absolute value) for U,V and U,X, and V,X as well.\n",
    "\n",
    "When we talk about how much variables are correlated, we should really be referring to the absolute values. Variables are perfectly correlated when their correlation coefficients are 1 or -1, and uncorrelataed when their correlation coefficient is 0. The sign indicates the direction of the relationship."
   ]
  },
  {
   "cell_type": "code",
   "execution_count": 182,
   "metadata": {
    "collapsed": true
   },
   "outputs": [],
   "source": [
    "## Problem 2"
   ]
  },
  {
   "cell_type": "code",
   "execution_count": 183,
   "metadata": {},
   "outputs": [
    {
     "data": {
      "text/plain": [
       "<matplotlib.axes._subplots.AxesSubplot at 0x15155272d68>"
      ]
     },
     "execution_count": 183,
     "metadata": {},
     "output_type": "execute_result"
    },
    {
     "data": {
      "image/png": "[encoded data removed]",
      "text/plain": [
       "<matplotlib.figure.Figure at 0x15154ee1b00>"
      ]
     },
     "metadata": {},
     "output_type": "display_data"
    },
    {
     "data": {
      "image/png": "[encoded data removed]",
      "text/plain": [
       "<matplotlib.figure.Figure at 0x15155069c18>"
      ]
     },
     "metadata": {},
     "output_type": "display_data"
    },
    {
     "data": {
      "image/png": "[encoded data removed]",
      "text/plain": [
       "<matplotlib.figure.Figure at 0x15155182908>"
      ]
     },
     "metadata": {},
     "output_type": "display_data"
    },
    {
     "data": {
      "image/png": "[encoded data removed]",
      "text/plain": [
       "<matplotlib.figure.Figure at 0x151551d1668>"
      ]
     },
     "metadata": {},
     "output_type": "display_data"
    },
    {
     "data": {
      "image/png": "[encoded data removed]",
      "text/plain": [
       "<matplotlib.figure.Figure at 0x151552fce80>"
      ]
     },
     "metadata": {},
     "output_type": "display_data"
    }
   ],
   "source": [
    "cordf.plot(x = \"U\", y = \"V\", kind = \"scatter\")\n",
    "cordf.plot(x = \"U\", y = \"W\", kind = \"scatter\")\n",
    "cordf.plot(x = \"U\", y = \"X\", kind = \"scatter\")\n",
    "cordf.plot(x = \"U\", y = \"Y\", kind = \"scatter\")\n",
    "cordf.plot(x = \"U\", y = \"Z\", kind = \"scatter\")"
   ]
  },
  {
   "cell_type": "markdown",
   "metadata": {},
   "source": [
    "The pair (U, V) appears how we might expect uncorrelated variables to look. In fact the processes that generated this data were _independent_, which is a stronger condition than uncorrelatedness, i.e. if columns are independent then they are uncorrelated (but not vice versa!).\n",
    "\n",
    "There is a strong negative linear relationship between the pair (U, W), which agrees with their high (in absolute value) correlation coefficient (or high $R^2$).\n",
    "\n",
    "In the third case, there is obviously a relationship between U and X, which might be surprising given their low correlation coefficient.\n",
    "\n",
    "In the fourth case, the correlation is a little bit harder to see, but it is a positive linear correlation.\n",
    "\n",
    "In the fifth case, there is also an obvious relationship between U and Z, and the magnitude of this relationship is not being reflected."
   ]
  },
  {
   "cell_type": "markdown",
   "metadata": {},
   "source": [
    "## Problem 3\n",
    "\n",
    "When the absolute value of the correlation coefficient between two variables is close to 1, you know that the relationship resembles a straight line. If it's positive, then the relationship resembles a line with positive slope, and vice versa. When the correlation coefficient is close to 0, there's less you can say. You can say for sure that the relationship is not a straight line, but that doesn't mean that there is no relationship. That's one reason why it's important to always _look_ at data that you're working with. "
   ]
  },
  {
   "cell_type": "markdown",
   "metadata": {},
   "source": [
    "## Problem 4\n"
   ]
  },
  {
   "cell_type": "markdown",
   "metadata": {},
   "source": [
    "The relationship between U and Z looks like it might be exponential, so we might be able to transform the data by taking the logarithm of Z, which is the _inverse_ of the exponential function, and make the relationship linear. The relationship between U and X appears to be quadratic. Unfortunately here it is less straightforward to find a transformation to make the data linear; quadratic functions do not have real inverses (why not?). We will learn more about how to model relationships that are not linear in the next unit."
   ]
  },
  {
   "cell_type": "code",
   "execution_count": 184,
   "metadata": {},
   "outputs": [
    {
     "name": "stderr",
     "output_type": "stream",
     "text": [
      "C:\\Users\\colin\\Anaconda3\\lib\\site-packages\\ipykernel_launcher.py:2: RuntimeWarning: invalid value encountered in sqrt\n",
      "  \n"
     ]
    },
    {
     "data": {
      "text/html": [
       "<div>\n",
       "<style>\n",
       "    .dataframe thead tr:only-child th {\n",
       "        text-align: right;\n",
       "    }\n",
       "\n",
       "    .dataframe thead th {\n",
       "        text-align: left;\n",
       "    }\n",
       "\n",
       "    .dataframe tbody tr th {\n",
       "        vertical-align: top;\n",
       "    }\n",
       "</style>\n",
       "<table border=\"1\" class=\"dataframe\">\n",
       "  <thead>\n",
       "    <tr style=\"text-align: right;\">\n",
       "      <th></th>\n",
       "      <th>U</th>\n",
       "      <th>V</th>\n",
       "      <th>W</th>\n",
       "      <th>X</th>\n",
       "      <th>Y</th>\n",
       "      <th>Z</th>\n",
       "      <th>logz</th>\n",
       "      <th>sqrtX</th>\n",
       "    </tr>\n",
       "  </thead>\n",
       "  <tbody>\n",
       "    <tr>\n",
       "      <th>U</th>\n",
       "      <td>1.000000</td>\n",
       "      <td>-0.017595</td>\n",
       "      <td>-0.888213</td>\n",
       "      <td>0.000520</td>\n",
       "      <td>0.627311</td>\n",
       "      <td>0.342996</td>\n",
       "      <td>0.992011</td>\n",
       "      <td>-0.011777</td>\n",
       "    </tr>\n",
       "    <tr>\n",
       "      <th>V</th>\n",
       "      <td>-0.017595</td>\n",
       "      <td>1.000000</td>\n",
       "      <td>0.006217</td>\n",
       "      <td>0.008271</td>\n",
       "      <td>-0.001050</td>\n",
       "      <td>-0.025472</td>\n",
       "      <td>-0.013650</td>\n",
       "      <td>-0.009457</td>\n",
       "    </tr>\n",
       "    <tr>\n",
       "      <th>W</th>\n",
       "      <td>-0.888213</td>\n",
       "      <td>0.006217</td>\n",
       "      <td>1.000000</td>\n",
       "      <td>-0.000237</td>\n",
       "      <td>-0.570783</td>\n",
       "      <td>-0.306872</td>\n",
       "      <td>-0.880485</td>\n",
       "      <td>0.002723</td>\n",
       "    </tr>\n",
       "    <tr>\n",
       "      <th>X</th>\n",
       "      <td>0.000520</td>\n",
       "      <td>0.008271</td>\n",
       "      <td>-0.000237</td>\n",
       "      <td>1.000000</td>\n",
       "      <td>-0.009350</td>\n",
       "      <td>0.508597</td>\n",
       "      <td>0.111052</td>\n",
       "      <td>0.942680</td>\n",
       "    </tr>\n",
       "    <tr>\n",
       "      <th>Y</th>\n",
       "      <td>0.627311</td>\n",
       "      <td>-0.001050</td>\n",
       "      <td>-0.570783</td>\n",
       "      <td>-0.009350</td>\n",
       "      <td>1.000000</td>\n",
       "      <td>0.181291</td>\n",
       "      <td>0.622453</td>\n",
       "      <td>-0.016896</td>\n",
       "    </tr>\n",
       "    <tr>\n",
       "      <th>Z</th>\n",
       "      <td>0.342996</td>\n",
       "      <td>-0.025472</td>\n",
       "      <td>-0.306872</td>\n",
       "      <td>0.508597</td>\n",
       "      <td>0.181291</td>\n",
       "      <td>1.000000</td>\n",
       "      <td>0.370883</td>\n",
       "      <td>0.356757</td>\n",
       "    </tr>\n",
       "    <tr>\n",
       "      <th>logz</th>\n",
       "      <td>0.992011</td>\n",
       "      <td>-0.013650</td>\n",
       "      <td>-0.880485</td>\n",
       "      <td>0.111052</td>\n",
       "      <td>0.622453</td>\n",
       "      <td>0.370883</td>\n",
       "      <td>1.000000</td>\n",
       "      <td>0.089339</td>\n",
       "    </tr>\n",
       "    <tr>\n",
       "      <th>sqrtX</th>\n",
       "      <td>-0.011777</td>\n",
       "      <td>-0.009457</td>\n",
       "      <td>0.002723</td>\n",
       "      <td>0.942680</td>\n",
       "      <td>-0.016896</td>\n",
       "      <td>0.356757</td>\n",
       "      <td>0.089339</td>\n",
       "      <td>1.000000</td>\n",
       "    </tr>\n",
       "  </tbody>\n",
       "</table>\n",
       "</div>"
      ],
      "text/plain": [
       "              U         V         W         X         Y         Z      logz  \\\n",
       "U      1.000000 -0.017595 -0.888213  0.000520  0.627311  0.342996  0.992011   \n",
       "V     -0.017595  1.000000  0.006217  0.008271 -0.001050 -0.025472 -0.013650   \n",
       "W     -0.888213  0.006217  1.000000 -0.000237 -0.570783 -0.306872 -0.880485   \n",
       "X      0.000520  0.008271 -0.000237  1.000000 -0.009350  0.508597  0.111052   \n",
       "Y      0.627311 -0.001050 -0.570783 -0.009350  1.000000  0.181291  0.622453   \n",
       "Z      0.342996 -0.025472 -0.306872  0.508597  0.181291  1.000000  0.370883   \n",
       "logz   0.992011 -0.013650 -0.880485  0.111052  0.622453  0.370883  1.000000   \n",
       "sqrtX -0.011777 -0.009457  0.002723  0.942680 -0.016896  0.356757  0.089339   \n",
       "\n",
       "          sqrtX  \n",
       "U     -0.011777  \n",
       "V     -0.009457  \n",
       "W      0.002723  \n",
       "X      0.942680  \n",
       "Y     -0.016896  \n",
       "Z      0.356757  \n",
       "logz   0.089339  \n",
       "sqrtX  1.000000  "
      ]
     },
     "execution_count": 184,
     "metadata": {},
     "output_type": "execute_result"
    }
   ],
   "source": [
    "cordf[\"logz\"] = np.log(cordf[\"Z\"])\n",
    "cordf[\"sqrtX\"] = np.sqrt(cordf[\"X\"])\n",
    "cordf.corr() # very high correlation between U and logz, not so much for sqrtX"
   ]
  },
  {
   "cell_type": "code",
   "execution_count": 185,
   "metadata": {},
   "outputs": [
    {
     "data": {
      "text/plain": [
       "<matplotlib.axes._subplots.AxesSubplot at 0x15154c3ea90>"
      ]
     },
     "execution_count": 185,
     "metadata": {},
     "output_type": "execute_result"
    },
    {
     "data": {
      "image/png": "[encoded data removed]",
      "text/plain": [
       "<matplotlib.figure.Figure at 0x15152545e48>"
      ]
     },
     "metadata": {},
     "output_type": "display_data"
    },
    {
     "data": {
      "image/png": "[encoded data removed]",
      "text/plain": [
       "<matplotlib.figure.Figure at 0x1515373e0f0>"
      ]
     },
     "metadata": {},
     "output_type": "display_data"
    }
   ],
   "source": [
    "cordf.plot(x = \"U\", y = \"logz\", kind = 'scatter')\n",
    "cordf.plot(x = \"U\", y = \"sqrtX\", kind = 'scatter')"
   ]
  },
  {
   "cell_type": "markdown",
   "metadata": {},
   "source": [
    "# Unit 8"
   ]
  },
  {
   "cell_type": "markdown",
   "metadata": {},
   "source": [
    "Load up `customer_info.csv` and use it to answer these questions. \n",
    "\n",
    "1. The big Telecom that you work for is interested in the relationship between the number of employees who work at a company, and how much they spend on different products. Perform two linear regressions, each with `EMP` as the independent variable, but with `MOBILITY` as the dependent variable in one and `INTERNET` as the dependent variable in the other. Describe in words the relationship between each of these revenue categories and the number of employees at a company. Do these results make sense to you? Why or why not?\n",
    "2. We are now interested in how the relationship between Mobility revenue and employees changes across different industries. Pick two industries to investigate, and create two data frames, each with data on one of your chosen industries. Run a regression on each data frame to see how the relationship between the number of employees changes between industries. Describe your findings in words. (_Note_: it would be good if we could organize ourselves so that at least one person is doing each possible pair of industries.)\n",
    "3. (Optional) To see how effects differ across categorical variables using a regression, it is useful to use an _interaction term_. Use an interaction term to investigate the effect of employees on mobility across all industries.\n",
    "4. Use your findings to make a recommendation to the marketing team about how they could use information about how many employees work at companies to create campaigns with the highest return."
   ]
  },
  {
   "cell_type": "markdown",
   "metadata": {
    "collapsed": true
   },
   "source": [
    "## Problem 1"
   ]
  },
  {
   "cell_type": "code",
   "execution_count": 186,
   "metadata": {},
   "outputs": [
    {
     "data": {
      "text/html": [
       "<table class=\"simpletable\">\n",
       "<caption>OLS Regression Results</caption>\n",
       "<tr>\n",
       "  <th>Dep. Variable:</th>        <td>MOBILITY</td>     <th>  R-squared:         </th> <td>   0.311</td> \n",
       "</tr>\n",
       "<tr>\n",
       "  <th>Model:</th>                   <td>OLS</td>       <th>  Adj. R-squared:    </th> <td>   0.311</td> \n",
       "</tr>\n",
       "<tr>\n",
       "  <th>Method:</th>             <td>Least Squares</td>  <th>  F-statistic:       </th> <td>   3946.</td> \n",
       "</tr>\n",
       "<tr>\n",
       "  <th>Date:</th>             <td>Sat, 16 Sep 2017</td> <th>  Prob (F-statistic):</th>  <td>  0.00</td>  \n",
       "</tr>\n",
       "<tr>\n",
       "  <th>Time:</th>                 <td>20:52:52</td>     <th>  Log-Likelihood:    </th> <td> -87406.</td> \n",
       "</tr>\n",
       "<tr>\n",
       "  <th>No. Observations:</th>      <td>  8757</td>      <th>  AIC:               </th> <td>1.748e+05</td>\n",
       "</tr>\n",
       "<tr>\n",
       "  <th>Df Residuals:</th>          <td>  8755</td>      <th>  BIC:               </th> <td>1.748e+05</td>\n",
       "</tr>\n",
       "<tr>\n",
       "  <th>Df Model:</th>              <td>     1</td>      <th>                     </th>     <td> </td>    \n",
       "</tr>\n",
       "<tr>\n",
       "  <th>Covariance Type:</th>      <td>nonrobust</td>    <th>                     </th>     <td> </td>    \n",
       "</tr>\n",
       "</table>\n",
       "<table class=\"simpletable\">\n",
       "<tr>\n",
       "      <td></td>         <th>coef</th>     <th>std err</th>      <th>t</th>      <th>P>|t|</th>  <th>[0.025</th>    <th>0.975]</th>  \n",
       "</tr>\n",
       "<tr>\n",
       "  <th>Intercept</th> <td> 3183.7924</td> <td>   63.814</td> <td>   49.892</td> <td> 0.000</td> <td> 3058.701</td> <td> 3308.883</td>\n",
       "</tr>\n",
       "<tr>\n",
       "  <th>EMP</th>       <td>   23.2909</td> <td>    0.371</td> <td>   62.818</td> <td> 0.000</td> <td>   22.564</td> <td>   24.018</td>\n",
       "</tr>\n",
       "</table>\n",
       "<table class=\"simpletable\">\n",
       "<tr>\n",
       "  <th>Omnibus:</th>       <td>6104.538</td> <th>  Durbin-Watson:     </th>  <td>   2.002</td> \n",
       "</tr>\n",
       "<tr>\n",
       "  <th>Prob(Omnibus):</th>  <td> 0.000</td>  <th>  Jarque-Bera (JB):  </th> <td>226322.330</td>\n",
       "</tr>\n",
       "<tr>\n",
       "  <th>Skew:</th>           <td> 2.876</td>  <th>  Prob(JB):          </th>  <td>    0.00</td> \n",
       "</tr>\n",
       "<tr>\n",
       "  <th>Kurtosis:</th>       <td>27.232</td>  <th>  Cond. No.          </th>  <td>    196.</td> \n",
       "</tr>\n",
       "</table>"
      ],
      "text/plain": [
       "<class 'statsmodels.iolib.summary.Summary'>\n",
       "\"\"\"\n",
       "                            OLS Regression Results                            \n",
       "==============================================================================\n",
       "Dep. Variable:               MOBILITY   R-squared:                       0.311\n",
       "Model:                            OLS   Adj. R-squared:                  0.311\n",
       "Method:                 Least Squares   F-statistic:                     3946.\n",
       "Date:                Sat, 16 Sep 2017   Prob (F-statistic):               0.00\n",
       "Time:                        20:52:52   Log-Likelihood:                -87406.\n",
       "No. Observations:                8757   AIC:                         1.748e+05\n",
       "Df Residuals:                    8755   BIC:                         1.748e+05\n",
       "Df Model:                           1                                         \n",
       "Covariance Type:            nonrobust                                         \n",
       "==============================================================================\n",
       "                 coef    std err          t      P>|t|      [0.025      0.975]\n",
       "------------------------------------------------------------------------------\n",
       "Intercept   3183.7924     63.814     49.892      0.000    3058.701    3308.883\n",
       "EMP           23.2909      0.371     62.818      0.000      22.564      24.018\n",
       "==============================================================================\n",
       "Omnibus:                     6104.538   Durbin-Watson:                   2.002\n",
       "Prob(Omnibus):                  0.000   Jarque-Bera (JB):           226322.330\n",
       "Skew:                           2.876   Prob(JB):                         0.00\n",
       "Kurtosis:                      27.232   Cond. No.                         196.\n",
       "==============================================================================\n",
       "\n",
       "Warnings:\n",
       "[1] Standard Errors assume that the covariance matrix of the errors is correctly specified.\n",
       "\"\"\""
      ]
     },
     "execution_count": 186,
     "metadata": {},
     "output_type": "execute_result"
    }
   ],
   "source": [
    "df = pd.read_csv(\"customer_info.csv\")\n",
    "r1 = ols(\"MOBILITY ~ EMP\", data = df).fit()\n",
    "r1.summary()"
   ]
  },
  {
   "cell_type": "code",
   "execution_count": 187,
   "metadata": {},
   "outputs": [
    {
     "data": {
      "text/html": [
       "<table class=\"simpletable\">\n",
       "<caption>OLS Regression Results</caption>\n",
       "<tr>\n",
       "  <th>Dep. Variable:</th>        <td>INTERNET</td>     <th>  R-squared:         </th> <td>   0.024</td> \n",
       "</tr>\n",
       "<tr>\n",
       "  <th>Model:</th>                   <td>OLS</td>       <th>  Adj. R-squared:    </th> <td>   0.023</td> \n",
       "</tr>\n",
       "<tr>\n",
       "  <th>Method:</th>             <td>Least Squares</td>  <th>  F-statistic:       </th> <td>   211.6</td> \n",
       "</tr>\n",
       "<tr>\n",
       "  <th>Date:</th>             <td>Sat, 16 Sep 2017</td> <th>  Prob (F-statistic):</th> <td>2.14e-47</td> \n",
       "</tr>\n",
       "<tr>\n",
       "  <th>Time:</th>                 <td>20:52:52</td>     <th>  Log-Likelihood:    </th> <td> -83031.</td> \n",
       "</tr>\n",
       "<tr>\n",
       "  <th>No. Observations:</th>      <td>  8757</td>      <th>  AIC:               </th> <td>1.661e+05</td>\n",
       "</tr>\n",
       "<tr>\n",
       "  <th>Df Residuals:</th>          <td>  8755</td>      <th>  BIC:               </th> <td>1.661e+05</td>\n",
       "</tr>\n",
       "<tr>\n",
       "  <th>Df Model:</th>              <td>     1</td>      <th>                     </th>     <td> </td>    \n",
       "</tr>\n",
       "<tr>\n",
       "  <th>Covariance Type:</th>      <td>nonrobust</td>    <th>                     </th>     <td> </td>    \n",
       "</tr>\n",
       "</table>\n",
       "<table class=\"simpletable\">\n",
       "<tr>\n",
       "      <td></td>         <th>coef</th>     <th>std err</th>      <th>t</th>      <th>P>|t|</th>  <th>[0.025</th>    <th>0.975]</th>  \n",
       "</tr>\n",
       "<tr>\n",
       "  <th>Intercept</th> <td> 3230.7174</td> <td>   38.724</td> <td>   83.430</td> <td> 0.000</td> <td> 3154.810</td> <td> 3306.625</td>\n",
       "</tr>\n",
       "<tr>\n",
       "  <th>EMP</th>       <td>    3.2731</td> <td>    0.225</td> <td>   14.548</td> <td> 0.000</td> <td>    2.832</td> <td>    3.714</td>\n",
       "</tr>\n",
       "</table>\n",
       "<table class=\"simpletable\">\n",
       "<tr>\n",
       "  <th>Omnibus:</th>       <td>1913.515</td> <th>  Durbin-Watson:     </th> <td>   2.010</td>\n",
       "</tr>\n",
       "<tr>\n",
       "  <th>Prob(Omnibus):</th>  <td> 0.000</td>  <th>  Jarque-Bera (JB):  </th> <td>3490.841</td>\n",
       "</tr>\n",
       "<tr>\n",
       "  <th>Skew:</th>           <td> 1.396</td>  <th>  Prob(JB):          </th> <td>    0.00</td>\n",
       "</tr>\n",
       "<tr>\n",
       "  <th>Kurtosis:</th>       <td> 4.331</td>  <th>  Cond. No.          </th> <td>    196.</td>\n",
       "</tr>\n",
       "</table>"
      ],
      "text/plain": [
       "<class 'statsmodels.iolib.summary.Summary'>\n",
       "\"\"\"\n",
       "                            OLS Regression Results                            \n",
       "==============================================================================\n",
       "Dep. Variable:               INTERNET   R-squared:                       0.024\n",
       "Model:                            OLS   Adj. R-squared:                  0.023\n",
       "Method:                 Least Squares   F-statistic:                     211.6\n",
       "Date:                Sat, 16 Sep 2017   Prob (F-statistic):           2.14e-47\n",
       "Time:                        20:52:52   Log-Likelihood:                -83031.\n",
       "No. Observations:                8757   AIC:                         1.661e+05\n",
       "Df Residuals:                    8755   BIC:                         1.661e+05\n",
       "Df Model:                           1                                         \n",
       "Covariance Type:            nonrobust                                         \n",
       "==============================================================================\n",
       "                 coef    std err          t      P>|t|      [0.025      0.975]\n",
       "------------------------------------------------------------------------------\n",
       "Intercept   3230.7174     38.724     83.430      0.000    3154.810    3306.625\n",
       "EMP            3.2731      0.225     14.548      0.000       2.832       3.714\n",
       "==============================================================================\n",
       "Omnibus:                     1913.515   Durbin-Watson:                   2.010\n",
       "Prob(Omnibus):                  0.000   Jarque-Bera (JB):             3490.841\n",
       "Skew:                           1.396   Prob(JB):                         0.00\n",
       "Kurtosis:                       4.331   Cond. No.                         196.\n",
       "==============================================================================\n",
       "\n",
       "Warnings:\n",
       "[1] Standard Errors assume that the covariance matrix of the errors is correctly specified.\n",
       "\"\"\""
      ]
     },
     "execution_count": 187,
     "metadata": {},
     "output_type": "execute_result"
    }
   ],
   "source": [
    "r2 = ols(\"INTERNET ~ EMP\", data = df).fit()\n",
    "r2.summary()"
   ]
  },
  {
   "cell_type": "markdown",
   "metadata": {},
   "source": [
    "The results show that on average, Mobility revenue increases by about \\$23 per additional employee, and Internet revenue increases by about \\$3 per additional employee. This seems to make sense since Mobility revenue is intuitively more of a variable cost, especially for companies that purchase phones for their employees. "
   ]
  },
  {
   "cell_type": "markdown",
   "metadata": {},
   "source": [
    "## Problem 2"
   ]
  },
  {
   "cell_type": "markdown",
   "metadata": {},
   "source": [
    "I'll choose Construction and Finance and Insurance. Students can choose whatever they want."
   ]
  },
  {
   "cell_type": "code",
   "execution_count": 188,
   "metadata": {
    "collapsed": true
   },
   "outputs": [],
   "source": [
    "fin = df[df.INDUSTRY == \"Finance and Insurance\"]\n",
    "con = df[df.INDUSTRY == \"Construction\"]"
   ]
  },
  {
   "cell_type": "code",
   "execution_count": 189,
   "metadata": {},
   "outputs": [
    {
     "data": {
      "text/html": [
       "<table class=\"simpletable\">\n",
       "<caption>OLS Regression Results</caption>\n",
       "<tr>\n",
       "  <th>Dep. Variable:</th>        <td>MOBILITY</td>     <th>  R-squared:         </th> <td>   0.000</td> \n",
       "</tr>\n",
       "<tr>\n",
       "  <th>Model:</th>                   <td>OLS</td>       <th>  Adj. R-squared:    </th> <td>  -0.001</td> \n",
       "</tr>\n",
       "<tr>\n",
       "  <th>Method:</th>             <td>Least Squares</td>  <th>  F-statistic:       </th> <td> 0.05819</td> \n",
       "</tr>\n",
       "<tr>\n",
       "  <th>Date:</th>             <td>Sat, 16 Sep 2017</td> <th>  Prob (F-statistic):</th>  <td> 0.809</td>  \n",
       "</tr>\n",
       "<tr>\n",
       "  <th>Time:</th>                 <td>20:52:52</td>     <th>  Log-Likelihood:    </th> <td> -14238.</td> \n",
       "</tr>\n",
       "<tr>\n",
       "  <th>No. Observations:</th>      <td>  1457</td>      <th>  AIC:               </th> <td>2.848e+04</td>\n",
       "</tr>\n",
       "<tr>\n",
       "  <th>Df Residuals:</th>          <td>  1455</td>      <th>  BIC:               </th> <td>2.849e+04</td>\n",
       "</tr>\n",
       "<tr>\n",
       "  <th>Df Model:</th>              <td>     1</td>      <th>                     </th>     <td> </td>    \n",
       "</tr>\n",
       "<tr>\n",
       "  <th>Covariance Type:</th>      <td>nonrobust</td>    <th>                     </th>     <td> </td>    \n",
       "</tr>\n",
       "</table>\n",
       "<table class=\"simpletable\">\n",
       "<tr>\n",
       "      <td></td>         <th>coef</th>     <th>std err</th>      <th>t</th>      <th>P>|t|</th>  <th>[0.025</th>    <th>0.975]</th>  \n",
       "</tr>\n",
       "<tr>\n",
       "  <th>Intercept</th> <td> 4131.4405</td> <td>  146.237</td> <td>   28.252</td> <td> 0.000</td> <td> 3844.584</td> <td> 4418.297</td>\n",
       "</tr>\n",
       "<tr>\n",
       "  <th>EMP</th>       <td>   -0.5573</td> <td>    2.310</td> <td>   -0.241</td> <td> 0.809</td> <td>   -5.089</td> <td>    3.975</td>\n",
       "</tr>\n",
       "</table>\n",
       "<table class=\"simpletable\">\n",
       "<tr>\n",
       "  <th>Omnibus:</th>       <td>1639.560</td> <th>  Durbin-Watson:     </th>  <td>   1.964</td> \n",
       "</tr>\n",
       "<tr>\n",
       "  <th>Prob(Omnibus):</th>  <td> 0.000</td>  <th>  Jarque-Bera (JB):  </th> <td>274899.645</td>\n",
       "</tr>\n",
       "<tr>\n",
       "  <th>Skew:</th>           <td> 5.328</td>  <th>  Prob(JB):          </th>  <td>    0.00</td> \n",
       "</tr>\n",
       "<tr>\n",
       "  <th>Kurtosis:</th>       <td>69.443</td>  <th>  Cond. No.          </th>  <td>    83.2</td> \n",
       "</tr>\n",
       "</table>"
      ],
      "text/plain": [
       "<class 'statsmodels.iolib.summary.Summary'>\n",
       "\"\"\"\n",
       "                            OLS Regression Results                            \n",
       "==============================================================================\n",
       "Dep. Variable:               MOBILITY   R-squared:                       0.000\n",
       "Model:                            OLS   Adj. R-squared:                 -0.001\n",
       "Method:                 Least Squares   F-statistic:                   0.05819\n",
       "Date:                Sat, 16 Sep 2017   Prob (F-statistic):              0.809\n",
       "Time:                        20:52:52   Log-Likelihood:                -14238.\n",
       "No. Observations:                1457   AIC:                         2.848e+04\n",
       "Df Residuals:                    1455   BIC:                         2.849e+04\n",
       "Df Model:                           1                                         \n",
       "Covariance Type:            nonrobust                                         \n",
       "==============================================================================\n",
       "                 coef    std err          t      P>|t|      [0.025      0.975]\n",
       "------------------------------------------------------------------------------\n",
       "Intercept   4131.4405    146.237     28.252      0.000    3844.584    4418.297\n",
       "EMP           -0.5573      2.310     -0.241      0.809      -5.089       3.975\n",
       "==============================================================================\n",
       "Omnibus:                     1639.560   Durbin-Watson:                   1.964\n",
       "Prob(Omnibus):                  0.000   Jarque-Bera (JB):           274899.645\n",
       "Skew:                           5.328   Prob(JB):                         0.00\n",
       "Kurtosis:                      69.443   Cond. No.                         83.2\n",
       "==============================================================================\n",
       "\n",
       "Warnings:\n",
       "[1] Standard Errors assume that the covariance matrix of the errors is correctly specified.\n",
       "\"\"\""
      ]
     },
     "execution_count": 189,
     "metadata": {},
     "output_type": "execute_result"
    }
   ],
   "source": [
    "fin_regression = ols(\"MOBILITY ~ EMP\", data = fin).fit()\n",
    "fin_regression.summary()"
   ]
  },
  {
   "cell_type": "code",
   "execution_count": 190,
   "metadata": {},
   "outputs": [
    {
     "data": {
      "text/html": [
       "<table class=\"simpletable\">\n",
       "<caption>OLS Regression Results</caption>\n",
       "<tr>\n",
       "  <th>Dep. Variable:</th>        <td>MOBILITY</td>     <th>  R-squared:         </th> <td>   0.397</td> \n",
       "</tr>\n",
       "<tr>\n",
       "  <th>Model:</th>                   <td>OLS</td>       <th>  Adj. R-squared:    </th> <td>   0.397</td> \n",
       "</tr>\n",
       "<tr>\n",
       "  <th>Method:</th>             <td>Least Squares</td>  <th>  F-statistic:       </th> <td>   1207.</td> \n",
       "</tr>\n",
       "<tr>\n",
       "  <th>Date:</th>             <td>Sat, 16 Sep 2017</td> <th>  Prob (F-statistic):</th> <td>1.14e-203</td>\n",
       "</tr>\n",
       "<tr>\n",
       "  <th>Time:</th>                 <td>20:52:52</td>     <th>  Log-Likelihood:    </th> <td> -18887.</td> \n",
       "</tr>\n",
       "<tr>\n",
       "  <th>No. Observations:</th>      <td>  1835</td>      <th>  AIC:               </th> <td>3.778e+04</td>\n",
       "</tr>\n",
       "<tr>\n",
       "  <th>Df Residuals:</th>          <td>  1833</td>      <th>  BIC:               </th> <td>3.779e+04</td>\n",
       "</tr>\n",
       "<tr>\n",
       "  <th>Df Model:</th>              <td>     1</td>      <th>                     </th>     <td> </td>    \n",
       "</tr>\n",
       "<tr>\n",
       "  <th>Covariance Type:</th>      <td>nonrobust</td>    <th>                     </th>     <td> </td>    \n",
       "</tr>\n",
       "</table>\n",
       "<table class=\"simpletable\">\n",
       "<tr>\n",
       "      <td></td>         <th>coef</th>     <th>std err</th>      <th>t</th>      <th>P>|t|</th>  <th>[0.025</th>    <th>0.975]</th>  \n",
       "</tr>\n",
       "<tr>\n",
       "  <th>Intercept</th> <td> 6723.7707</td> <td>  200.454</td> <td>   33.543</td> <td> 0.000</td> <td> 6330.629</td> <td> 7116.913</td>\n",
       "</tr>\n",
       "<tr>\n",
       "  <th>EMP</th>       <td>   22.2663</td> <td>    0.641</td> <td>   34.747</td> <td> 0.000</td> <td>   21.009</td> <td>   23.523</td>\n",
       "</tr>\n",
       "</table>\n",
       "<table class=\"simpletable\">\n",
       "<tr>\n",
       "  <th>Omnibus:</th>       <td>849.926</td> <th>  Durbin-Watson:     </th> <td>   1.945</td> \n",
       "</tr>\n",
       "<tr>\n",
       "  <th>Prob(Omnibus):</th> <td> 0.000</td>  <th>  Jarque-Bera (JB):  </th> <td>12751.398</td>\n",
       "</tr>\n",
       "<tr>\n",
       "  <th>Skew:</th>          <td> 1.779</td>  <th>  Prob(JB):          </th> <td>    0.00</td> \n",
       "</tr>\n",
       "<tr>\n",
       "  <th>Kurtosis:</th>      <td>15.414</td>  <th>  Cond. No.          </th> <td>    376.</td> \n",
       "</tr>\n",
       "</table>"
      ],
      "text/plain": [
       "<class 'statsmodels.iolib.summary.Summary'>\n",
       "\"\"\"\n",
       "                            OLS Regression Results                            \n",
       "==============================================================================\n",
       "Dep. Variable:               MOBILITY   R-squared:                       0.397\n",
       "Model:                            OLS   Adj. R-squared:                  0.397\n",
       "Method:                 Least Squares   F-statistic:                     1207.\n",
       "Date:                Sat, 16 Sep 2017   Prob (F-statistic):          1.14e-203\n",
       "Time:                        20:52:52   Log-Likelihood:                -18887.\n",
       "No. Observations:                1835   AIC:                         3.778e+04\n",
       "Df Residuals:                    1833   BIC:                         3.779e+04\n",
       "Df Model:                           1                                         \n",
       "Covariance Type:            nonrobust                                         \n",
       "==============================================================================\n",
       "                 coef    std err          t      P>|t|      [0.025      0.975]\n",
       "------------------------------------------------------------------------------\n",
       "Intercept   6723.7707    200.454     33.543      0.000    6330.629    7116.913\n",
       "EMP           22.2663      0.641     34.747      0.000      21.009      23.523\n",
       "==============================================================================\n",
       "Omnibus:                      849.926   Durbin-Watson:                   1.945\n",
       "Prob(Omnibus):                  0.000   Jarque-Bera (JB):            12751.398\n",
       "Skew:                           1.779   Prob(JB):                         0.00\n",
       "Kurtosis:                      15.414   Cond. No.                         376.\n",
       "==============================================================================\n",
       "\n",
       "Warnings:\n",
       "[1] Standard Errors assume that the covariance matrix of the errors is correctly specified.\n",
       "\"\"\""
      ]
     },
     "execution_count": 190,
     "metadata": {},
     "output_type": "execute_result"
    }
   ],
   "source": [
    "con_regression = ols(\"MOBILITY ~ EMP\", data = con).fit()\n",
    "con_regression.summary()"
   ]
  },
  {
   "cell_type": "markdown",
   "metadata": {},
   "source": [
    "These results show that in the finance industry, there is not really any correlation (if anything it is negative) between the number of employees and mobility revenue. On the other hand, in construction each additional employee leads to \\$22 in mobility revenue. Maybe this suggests that in the finance industry it is rare for many employees to get phones, but it is relatively common in construction."
   ]
  },
  {
   "cell_type": "markdown",
   "metadata": {},
   "source": [
    "## Problem 3"
   ]
  },
  {
   "cell_type": "code",
   "execution_count": 191,
   "metadata": {},
   "outputs": [
    {
     "data": {
      "text/html": [
       "<table class=\"simpletable\">\n",
       "<caption>OLS Regression Results</caption>\n",
       "<tr>\n",
       "  <th>Dep. Variable:</th>        <td>MOBILITY</td>     <th>  R-squared:         </th> <td>   0.461</td> \n",
       "</tr>\n",
       "<tr>\n",
       "  <th>Model:</th>                   <td>OLS</td>       <th>  Adj. R-squared:    </th> <td>   0.460</td> \n",
       "</tr>\n",
       "<tr>\n",
       "  <th>Method:</th>             <td>Least Squares</td>  <th>  F-statistic:       </th> <td>   672.6</td> \n",
       "</tr>\n",
       "<tr>\n",
       "  <th>Date:</th>             <td>Sat, 16 Sep 2017</td> <th>  Prob (F-statistic):</th>  <td>  0.00</td>  \n",
       "</tr>\n",
       "<tr>\n",
       "  <th>Time:</th>                 <td>20:52:52</td>     <th>  Log-Likelihood:    </th> <td> -85415.</td> \n",
       "</tr>\n",
       "<tr>\n",
       "  <th>No. Observations:</th>      <td>  8662</td>      <th>  AIC:               </th> <td>1.709e+05</td>\n",
       "</tr>\n",
       "<tr>\n",
       "  <th>Df Residuals:</th>          <td>  8650</td>      <th>  BIC:               </th> <td>1.709e+05</td>\n",
       "</tr>\n",
       "<tr>\n",
       "  <th>Df Model:</th>              <td>    11</td>      <th>                     </th>     <td> </td>    \n",
       "</tr>\n",
       "<tr>\n",
       "  <th>Covariance Type:</th>      <td>nonrobust</td>    <th>                     </th>     <td> </td>    \n",
       "</tr>\n",
       "</table>\n",
       "<table class=\"simpletable\">\n",
       "<tr>\n",
       "                    <td></td>                       <th>coef</th>     <th>std err</th>      <th>t</th>      <th>P>|t|</th>  <th>[0.025</th>    <th>0.975]</th>  \n",
       "</tr>\n",
       "<tr>\n",
       "  <th>Intercept</th>                             <td> 2420.7467</td> <td>  238.066</td> <td>   10.168</td> <td> 0.000</td> <td> 1954.080</td> <td> 2887.414</td>\n",
       "</tr>\n",
       "<tr>\n",
       "  <th>INDUSTRY[T.Construction]</th>              <td> 4303.0240</td> <td>  271.335</td> <td>   15.859</td> <td> 0.000</td> <td> 3771.142</td> <td> 4834.906</td>\n",
       "</tr>\n",
       "<tr>\n",
       "  <th>INDUSTRY[T.Education]</th>                 <td> 1375.3871</td> <td>  310.540</td> <td>    4.429</td> <td> 0.000</td> <td>  766.655</td> <td> 1984.119</td>\n",
       "</tr>\n",
       "<tr>\n",
       "  <th>INDUSTRY[T.Finance and Insurance]</th>     <td> 1710.6938</td> <td>  286.702</td> <td>    5.967</td> <td> 0.000</td> <td> 1148.689</td> <td> 2272.699</td>\n",
       "</tr>\n",
       "<tr>\n",
       "  <th>INDUSTRY[T.Food Services]</th>             <td> -939.4231</td> <td>  266.201</td> <td>   -3.529</td> <td> 0.000</td> <td>-1461.241</td> <td> -417.606</td>\n",
       "</tr>\n",
       "<tr>\n",
       "  <th>INDUSTRY[T.Healthcare]</th>                <td> 3545.3044</td> <td>  290.608</td> <td>   12.200</td> <td> 0.000</td> <td> 2975.643</td> <td> 4114.965</td>\n",
       "</tr>\n",
       "<tr>\n",
       "  <th>EMP</th>                                   <td>    2.5249</td> <td>    1.633</td> <td>    1.547</td> <td> 0.122</td> <td>   -0.675</td> <td>    5.725</td>\n",
       "</tr>\n",
       "<tr>\n",
       "  <th>INDUSTRY[T.Construction]:EMP</th>          <td>   19.7414</td> <td>    1.685</td> <td>   11.718</td> <td> 0.000</td> <td>   16.439</td> <td>   23.044</td>\n",
       "</tr>\n",
       "<tr>\n",
       "  <th>INDUSTRY[T.Education]:EMP</th>             <td>    1.8932</td> <td>    2.978</td> <td>    0.636</td> <td> 0.525</td> <td>   -3.944</td> <td>    7.730</td>\n",
       "</tr>\n",
       "<tr>\n",
       "  <th>INDUSTRY[T.Finance and Insurance]:EMP</th> <td>   -3.0822</td> <td>    3.006</td> <td>   -1.025</td> <td> 0.305</td> <td>   -8.975</td> <td>    2.810</td>\n",
       "</tr>\n",
       "<tr>\n",
       "  <th>INDUSTRY[T.Food Services]:EMP</th>         <td>    5.9179</td> <td>    2.842</td> <td>    2.082</td> <td> 0.037</td> <td>    0.346</td> <td>   11.490</td>\n",
       "</tr>\n",
       "<tr>\n",
       "  <th>INDUSTRY[T.Healthcare]:EMP</th>            <td>    6.2771</td> <td>    1.856</td> <td>    3.382</td> <td> 0.001</td> <td>    2.639</td> <td>    9.915</td>\n",
       "</tr>\n",
       "</table>\n",
       "<table class=\"simpletable\">\n",
       "<tr>\n",
       "  <th>Omnibus:</th>       <td>6695.858</td> <th>  Durbin-Watson:     </th>  <td>   1.978</td> \n",
       "</tr>\n",
       "<tr>\n",
       "  <th>Prob(Omnibus):</th>  <td> 0.000</td>  <th>  Jarque-Bera (JB):  </th> <td>388059.735</td>\n",
       "</tr>\n",
       "<tr>\n",
       "  <th>Skew:</th>           <td> 3.211</td>  <th>  Prob(JB):          </th>  <td>    0.00</td> \n",
       "</tr>\n",
       "<tr>\n",
       "  <th>Kurtosis:</th>       <td>35.155</td>  <th>  Cond. No.          </th>  <td>2.61e+03</td> \n",
       "</tr>\n",
       "</table>"
      ],
      "text/plain": [
       "<class 'statsmodels.iolib.summary.Summary'>\n",
       "\"\"\"\n",
       "                            OLS Regression Results                            \n",
       "==============================================================================\n",
       "Dep. Variable:               MOBILITY   R-squared:                       0.461\n",
       "Model:                            OLS   Adj. R-squared:                  0.460\n",
       "Method:                 Least Squares   F-statistic:                     672.6\n",
       "Date:                Sat, 16 Sep 2017   Prob (F-statistic):               0.00\n",
       "Time:                        20:52:52   Log-Likelihood:                -85415.\n",
       "No. Observations:                8662   AIC:                         1.709e+05\n",
       "Df Residuals:                    8650   BIC:                         1.709e+05\n",
       "Df Model:                          11                                         \n",
       "Covariance Type:            nonrobust                                         \n",
       "=========================================================================================================\n",
       "                                            coef    std err          t      P>|t|      [0.025      0.975]\n",
       "---------------------------------------------------------------------------------------------------------\n",
       "Intercept                              2420.7467    238.066     10.168      0.000    1954.080    2887.414\n",
       "INDUSTRY[T.Construction]               4303.0240    271.335     15.859      0.000    3771.142    4834.906\n",
       "INDUSTRY[T.Education]                  1375.3871    310.540      4.429      0.000     766.655    1984.119\n",
       "INDUSTRY[T.Finance and Insurance]      1710.6938    286.702      5.967      0.000    1148.689    2272.699\n",
       "INDUSTRY[T.Food Services]              -939.4231    266.201     -3.529      0.000   -1461.241    -417.606\n",
       "INDUSTRY[T.Healthcare]                 3545.3044    290.608     12.200      0.000    2975.643    4114.965\n",
       "EMP                                       2.5249      1.633      1.547      0.122      -0.675       5.725\n",
       "INDUSTRY[T.Construction]:EMP             19.7414      1.685     11.718      0.000      16.439      23.044\n",
       "INDUSTRY[T.Education]:EMP                 1.8932      2.978      0.636      0.525      -3.944       7.730\n",
       "INDUSTRY[T.Finance and Insurance]:EMP    -3.0822      3.006     -1.025      0.305      -8.975       2.810\n",
       "INDUSTRY[T.Food Services]:EMP             5.9179      2.842      2.082      0.037       0.346      11.490\n",
       "INDUSTRY[T.Healthcare]:EMP                6.2771      1.856      3.382      0.001       2.639       9.915\n",
       "==============================================================================\n",
       "Omnibus:                     6695.858   Durbin-Watson:                   1.978\n",
       "Prob(Omnibus):                  0.000   Jarque-Bera (JB):           388059.735\n",
       "Skew:                           3.211   Prob(JB):                         0.00\n",
       "Kurtosis:                      35.155   Cond. No.                     2.61e+03\n",
       "==============================================================================\n",
       "\n",
       "Warnings:\n",
       "[1] Standard Errors assume that the covariance matrix of the errors is correctly specified.\n",
       "[2] The condition number is large, 2.61e+03. This might indicate that there are\n",
       "strong multicollinearity or other numerical problems.\n",
       "\"\"\""
      ]
     },
     "execution_count": 191,
     "metadata": {},
     "output_type": "execute_result"
    }
   ],
   "source": [
    "int_regression = ols(\"MOBILITY ~ INDUSTRY * EMP\", data = df).fit()\n",
    "int_regression.summary()"
   ]
  },
  {
   "cell_type": "markdown",
   "metadata": {},
   "source": [
    "These results show that the industry where the relationship between mobility revenue and employees is the strongest is Construction, and there is also a strong relationship in Food Services and Healthcare. The relationship is small or non-existent in Education and Finance."
   ]
  },
  {
   "cell_type": "markdown",
   "metadata": {},
   "source": [
    "## Problem 4\n",
    "The most lucrative segment for mobility is probably construction companies with a lot of employees, followed by Healthcare with a lot of employees. The number of employees doesn't really matter for Education or Finance (at least for mobility). Note that there's a lot of other discussion we could have on this topic. "
   ]
  }
 ],
 "metadata": {
  "kernelspec": {
   "display_name": "Python 3",
   "language": "python",
   "name": "python3"
  },
  "language_info": {
   "codemirror_mode": {
    "name": "ipython",
    "version": 3
   },
   "file_extension": ".py",
   "mimetype": "text/x-python",
   "name": "python",
   "nbconvert_exporter": "python",
   "pygments_lexer": "ipython3",
   "version": "3.6.1"
  }
 },
 "nbformat": 4,
 "nbformat_minor": 2
}
