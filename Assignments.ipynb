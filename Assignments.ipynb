{
 "cells": [
  {
   "cell_type": "markdown",
   "metadata": {},
   "source": [
    "# Unit 4"
   ]
  },
  {
   "cell_type": "markdown",
   "metadata": {},
   "source": [
    "The file `customer_data.csv` contains some data on the business customers of a large telecommunications firm. The columns are specified as follows:\n",
    "- `INDUSTRY`: the customer's industry\n",
    "- `EMP`: the number of employees that work at the business\n",
    "- `ANNUAL_SALES`: the business's annual sales\n",
    "- `PROVINCE`: the business headquarters\n",
    "- `MOBILITY`: the amount the customer has spent on mobility products (cell phones, tablets, etc.) in the last 12 months\n",
    "- `INTERNET`: the amount the customer has spent on Internet products in the last 12 months.\n",
    "\n",
    "Import the file and answer the following questions.\n",
    "\n",
    "1. The marketing department would like to target a campaign to medium sized (100-999 Employees) customers who are in either Education or Food Services, and who currently spend less than $5000 total per year on all services. Create a boolean column called `INCLUDE` that indicates whether the customer on that row should be included in the campaign.\n",
    "2. How many customers are in the campaign?\n",
    "3. Pandas has a function called `crosstab` which prints cross tabulations of categorical variables. Use the `crosstab` function to determine how many customers in each industry and province are included in the campaign.\n",
    "4. Create a file called `customerids.csv` that contains _only_ a list of `CUSTOMER_ID`s to be included in the campaign."
   ]
  },
  {
   "cell_type": "code",
   "execution_count": 3,
   "metadata": {
    "collapsed": true
   },
   "outputs": [],
   "source": [
    "import pandas as pd"
   ]
  },
  {
   "cell_type": "code",
   "execution_count": 4,
   "metadata": {},
   "outputs": [],
   "source": [
    "df = pd.read_csv('customer_info.csv')"
   ]
  },
  {
   "cell_type": "code",
   "execution_count": 17,
   "metadata": {},
   "outputs": [],
   "source": [
    "#1\n",
    "df[\"INCLUDE\"] = (df[\"EMP\"] >= 100) & (df[\"EMP\"] < 1000) & (df[\"INDUSTRY\"].isin([\"Food Services\", \"Education\"])) & (df[\"MOBILITY\"] + df[\"INTERNET\"] <= 5000)"
   ]
  },
  {
   "cell_type": "code",
   "execution_count": 18,
   "metadata": {},
   "outputs": [
    {
     "data": {
      "text/plain": [
       "84"
      ]
     },
     "execution_count": 18,
     "metadata": {},
     "output_type": "execute_result"
    }
   ],
   "source": [
    "#2\n",
    "sum(df.INCLUDE)"
   ]
  },
  {
   "cell_type": "code",
   "execution_count": 21,
   "metadata": {},
   "outputs": [
    {
     "data": {
      "text/html": [
       "<div>\n",
       "<style>\n",
       "    .dataframe thead tr:only-child th {\n",
       "        text-align: right;\n",
       "    }\n",
       "\n",
       "    .dataframe thead th {\n",
       "        text-align: left;\n",
       "    }\n",
       "\n",
       "    .dataframe tbody tr th {\n",
       "        vertical-align: top;\n",
       "    }\n",
       "</style>\n",
       "<table border=\"1\" class=\"dataframe\">\n",
       "  <thead>\n",
       "    <tr style=\"text-align: right;\">\n",
       "      <th>PROVINCE</th>\n",
       "      <th>AB</th>\n",
       "      <th>BC</th>\n",
       "    </tr>\n",
       "    <tr>\n",
       "      <th>INDUSTRY</th>\n",
       "      <th></th>\n",
       "      <th></th>\n",
       "    </tr>\n",
       "  </thead>\n",
       "  <tbody>\n",
       "    <tr>\n",
       "      <th>Education</th>\n",
       "      <td>6</td>\n",
       "      <td>8</td>\n",
       "    </tr>\n",
       "    <tr>\n",
       "      <th>Food Services</th>\n",
       "      <td>32</td>\n",
       "      <td>38</td>\n",
       "    </tr>\n",
       "  </tbody>\n",
       "</table>\n",
       "</div>"
      ],
      "text/plain": [
       "PROVINCE       AB  BC\n",
       "INDUSTRY             \n",
       "Education       6   8\n",
       "Food Services  32  38"
      ]
     },
     "execution_count": 21,
     "metadata": {},
     "output_type": "execute_result"
    }
   ],
   "source": [
    "#3\n",
    "pd.crosstab(df[df[\"INCLUDE\"]][\"INDUSTRY\"], df[df[\"INCLUDE\"]][\"PROVINCE\"])"
   ]
  },
  {
   "cell_type": "code",
   "execution_count": 23,
   "metadata": {},
   "outputs": [],
   "source": [
    "#4\n",
    "df[df[\"INCLUDE\"]][\"CUSTOMER_ID\"].to_csv(\"customerids.csv\", index=False)"
   ]
  }
 ],
 "metadata": {
  "kernelspec": {
   "display_name": "Python 3",
   "language": "python",
   "name": "python3"
  },
  "language_info": {
   "codemirror_mode": {
    "name": "ipython",
    "version": 3
   },
   "file_extension": ".py",
   "mimetype": "text/x-python",
   "name": "python",
   "nbconvert_exporter": "python",
   "pygments_lexer": "ipython3",
   "version": "3.6.1"
  }
 },
 "nbformat": 4,
 "nbformat_minor": 2
}
